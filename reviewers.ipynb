{
 "cells": [
  {
   "cell_type": "code",
   "execution_count": null,
   "id": "de4aa7b2",
   "metadata": {},
   "outputs": [],
   "source": [
    "# Package\n",
    "import pandas as pd "
   ]
  },
  {
   "cell_type": "code",
   "execution_count": null,
   "id": "c3a60c6f",
   "metadata": {},
   "outputs": [],
   "source": [
    "# Read the movies.csv file\n",
    "movie_base=pd.read_csv(\"movies.csv\")"
   ]
  },
  {
   "cell_type": "code",
   "execution_count": null,
   "id": "ccec1d7c",
   "metadata": {},
   "outputs": [],
   "source": [
    "#let's create a function to get the reviewers and their ratings \n",
    "def collect_reviewers_for_movies(dataframe, total_reviews_per_movie=10):\n",
    "    # Initialize WebDriver\n",
    "    driver = webdriver.Chrome(ChromeDriverManager().install())\n",
    "    driver.implicitly_wait(5)\n",
    "    \n",
    "    # Create a dictionary to store the collected data\n",
    "    collected_data = {\n",
    "        \"Movie_Title\": [],\n",
    "        \"Rating\": [],\n",
    "        \"User_Name\": []\n",
    "    }\n",
    "    # Iterate over the rows in the dataframe\n",
    "    for index, row in dataframe.iterrows():\n",
    "        url = row['link_review'] \n",
    "\n",
    "        page = 1\n",
    "        collected_reviews = 0\n",
    "\n",
    "        # Load the movie's reviews page\n",
    "        driver.get(url) \n",
    "        # Get the movie title from the dataframe\n",
    "        movie_title = row['Title']  \n",
    "\n",
    "        while collected_reviews < total_reviews_per_movie:\n",
    "            try:\n",
    "                # Find the \"load more\" button on the webpage\n",
    "                load_more = WebDriverWait(driver, 10).until(\n",
    "                    EC.element_to_be_clickable((By.XPATH, '//button[@class=\"ipl-load-more__button\"]'))\n",
    "                )\n",
    "\n",
    "                # Click on the \"load more\" button\n",
    "                load_more.click()\n",
    "                page += 1  # Move on to the next \"load more\" button\n",
    "            except:\n",
    "                # If no more \"load more\" button is found, stop\n",
    "                break\n",
    "\n",
    "            #  collect data from the entire website\n",
    "            reviews = driver.find_elements_by_class_name('review-container')\n",
    "\n",
    "            for review in reviews:\n",
    "                try:\n",
    "                    # Find the review title, rating, date, and user name for each review\n",
    "                    rating = review.find_element_by_class_name('rating-other-user-rating').text\n",
    "                    user_name = review.find_element_by_class_name('display-name-link').text\n",
    "\n",
    "                    # Append the data to lists\n",
    "                    collected_data[\"Movie_Title\"].append(movie_title)\n",
    "                    collected_data[\"Rating\"].append(rating)\n",
    "                    collected_data[\"User_Name\"].append(user_name)\n",
    "\n",
    "                    # Increment the collected reviews counter\n",
    "                    collected_reviews += 1\n",
    "\n",
    "                    if collected_reviews >= total_reviews_per_movie:\n",
    "                        break  # Exit the loop if the desired number of reviews is reached\n",
    "\n",
    "                except:\n",
    "                    continue\n",
    "\n",
    "    # Close the WebDriver\n",
    "    driver.quit()\n",
    "\n",
    "    return pd.DataFrame(collected_data)"
   ]
  },
  {
   "cell_type": "code",
   "execution_count": null,
   "id": "08c17f26",
   "metadata": {},
   "outputs": [],
   "source": [
    "# So let's apply the function behing to movie_base and create a new dataframe \n",
    "collected_reviewers_df = collect_reviewers_for_movies(df, total_reviews_per_movie=10)"
   ]
  },
  {
   "cell_type": "code",
   "execution_count": null,
   "id": "e75f2656",
   "metadata": {},
   "outputs": [],
   "source": [
    "# Save the dataFrame to a CSV file\n",
    "collected_reviewers_df=pd.read_csv('rating.csv')"
   ]
  }
 ],
 "metadata": {
  "kernelspec": {
   "display_name": "Python 3 (ipykernel)",
   "language": "python",
   "name": "python3"
  },
  "language_info": {
   "codemirror_mode": {
    "name": "ipython",
    "version": 3
   },
   "file_extension": ".py",
   "mimetype": "text/x-python",
   "name": "python",
   "nbconvert_exporter": "python",
   "pygments_lexer": "ipython3",
   "version": "3.9.13"
  }
 },
 "nbformat": 4,
 "nbformat_minor": 5
}
