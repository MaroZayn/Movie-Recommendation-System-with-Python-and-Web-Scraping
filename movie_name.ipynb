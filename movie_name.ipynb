{
 "cells": [
  {
   "cell_type": "code",
   "execution_count": null,
   "id": "afefe5d6",
   "metadata": {},
   "outputs": [],
   "source": [
    "# packages\n",
    "import pandas as pd \n",
    "from selenium import webdriver \n",
    "from selenium.webdriver.support.ui import WebDriverWait\n",
    "from selenium.webdriver.support import expected_conditions as EC \n",
    "from selenium.webdriver.common.by import By\n",
    "from webdriver_manager.chrome import ChromeDriverManager\n",
    "from tqdm import tqdm"
   ]
  },
  {
   "cell_type": "code",
   "execution_count": null,
   "id": "eb2ee996",
   "metadata": {},
   "outputs": [],
   "source": [
    "# Navigate to the IMDb website\n",
    "driver = webdriver.Chrome(ChromeDriverManager().install())\n",
    "driver.get('https://www.imdb.com/search/title/?num_votes=10000,&sort=user_rating,desc&title_type=feature')\n",
    "driver.implicitly_wait(5)"
   ]
  },
  {
   "cell_type": "code",
   "execution_count": null,
   "id": "80319212",
   "metadata": {},
   "outputs": [],
   "source": [
    "# Create empty lists\n",
    "title = []\n",
    "link = []\n",
    "year = []\n",
    "genre = []"
   ]
  },
  {
   "cell_type": "code",
   "execution_count": null,
   "id": "7db1f4ae",
   "metadata": {},
   "outputs": [],
   "source": [
    "# First set the total number of films to extract and the number of films per page\n",
    "total_films_to_extract = 4000\n",
    "films_per_page = 50\n",
    "\n",
    "# Calculate the number of pages needed to extract all films\n",
    "num_pages = total_films_to_extract // films_per_page\n",
    "\n",
    "for page in tqdm(range(num_pages), desc=\"Pages Progress\"): \n",
    "     # Find elements matching movies on the page\n",
    "    film_elements = driver.find_elements_by_css_selector('.lister-item')\n",
    "    \n",
    "    for i in tqdm(range(films_per_page), desc=\"Films Progress\"):  \n",
    "        #  Extract movie information\n",
    "        ftitle = film_elements[i].find_element_by_css_selector('.lister-item-header a').text\n",
    "        fyear = film_elements[i].find_element_by_css_selector('.lister-item-year').text\n",
    "        flink = film_elements[i].find_element_by_css_selector('.lister-item-header a').get_attribute('href')\n",
    "        fgenre = film_elements[i].find_element_by_css_selector('.genre').text\n",
    "        \n",
    "        # Add extracted information to respective lists\n",
    "        title.append(ftitle)\n",
    "        year.append(fyear)\n",
    "        link.append(flink)\n",
    "        genre.append(fgenre)\n",
    "    \n",
    "    # Move to the next page by clicking the \"Next\" link\n",
    "    try:\n",
    "        next_button = driver.find_element_by_link_text('Next »')\n",
    "        next_button.click()\n",
    "    except:\n",
    "        break  #  Stop if the \"Next\" link is not found\n",
    "\n",
    "# Close the browser\n",
    "driver.quit()"
   ]
  },
  {
   "cell_type": "code",
   "execution_count": null,
   "id": "75d022ba",
   "metadata": {},
   "outputs": [],
   "source": [
    "# create a dataframe\n",
    "data = {\n",
    "    'Title': title,\n",
    "    'Year': year,\n",
    "    'Link': link,\n",
    "    'Genre': genre\n",
    "}\n",
    "movie_base=pd.DataFrame(data = data)"
   ]
  },
  {
   "cell_type": "code",
   "execution_count": null,
   "id": "72b076f5",
   "metadata": {},
   "outputs": [],
   "source": [
    "# Append new column 'link_review'to the dataframe movie_base\n",
    "def modify_url(original_url):\n",
    "    if '?' in original_url:\n",
    "        modified_url = original_url.replace('?', 'reviews?', 1)\n",
    "        return modified_url\n",
    "    else:\n",
    "        return original_url\n",
    "\n",
    "movie_base['link_review'] = movie_base['Link'].apply(modify_url)"
   ]
  },
  {
   "cell_type": "code",
   "execution_count": null,
   "id": "378c1bfc",
   "metadata": {},
   "outputs": [],
   "source": [
    "# Save the dataframe to a CSV file\n",
    "movie_base.to_csv('movies.csv', index=False)"
   ]
  }
 ],
 "metadata": {
  "kernelspec": {
   "display_name": "Python 3 (ipykernel)",
   "language": "python",
   "name": "python3"
  },
  "language_info": {
   "codemirror_mode": {
    "name": "ipython",
    "version": 3
   },
   "file_extension": ".py",
   "mimetype": "text/x-python",
   "name": "python",
   "nbconvert_exporter": "python",
   "pygments_lexer": "ipython3",
   "version": "3.9.13"
  }
 },
 "nbformat": 4,
 "nbformat_minor": 5
}
